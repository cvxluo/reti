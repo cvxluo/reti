{
 "cells": [
  {
   "cell_type": "code",
   "execution_count": 1,
   "id": "628ce2f5",
   "metadata": {},
   "outputs": [
    {
     "name": "stdout",
     "output_type": "stream",
     "text": [
      "Loaded environment variables from .env\n",
      "Checking and downloading missing data lake files...\n"
     ]
    }
   ],
   "source": [
    "from biomni.agent import A1\n",
    "agent = A1(path='./data', llm='gpt-5-2025-08-07')"
   ]
  },
  {
   "cell_type": "code",
   "execution_count": null,
   "id": "ab550a2b",
   "metadata": {},
   "outputs": [],
   "source": [
    "log = agent.go(\"\"\"Plan a CRISPR screen to identify genes that regulate T cell exhaustion,\n",
    "        measured by the change in T cell receptor (TCR) signaling between acute\n",
    "        (interleukin-2 [IL-2] only) and chronic (anti-CD3 and IL-2) stimulation conditions.\n",
    "        Generate 32 genes that maximize the perturbation effect.\"\"\")"
   ]
  },
  {
   "cell_type": "code",
   "execution_count": null,
   "id": "3c42611b",
   "metadata": {},
   "outputs": [],
   "source": []
  }
 ],
 "metadata": {
  "kernelspec": {
   "display_name": "biomni_e1",
   "language": "python",
   "name": "python3"
  },
  "language_info": {
   "codemirror_mode": {
    "name": "ipython",
    "version": 3
   },
   "file_extension": ".py",
   "mimetype": "text/x-python",
   "name": "python",
   "nbconvert_exporter": "python",
   "pygments_lexer": "ipython3",
   "version": "3.11.13"
  }
 },
 "nbformat": 4,
 "nbformat_minor": 5
}
